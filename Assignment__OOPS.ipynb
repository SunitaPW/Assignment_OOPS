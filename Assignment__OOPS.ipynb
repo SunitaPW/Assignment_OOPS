{
  "nbformat": 4,
  "nbformat_minor": 0,
  "metadata": {
    "colab": {
      "provenance": []
    },
    "kernelspec": {
      "name": "python3",
      "display_name": "Python 3"
    },
    "language_info": {
      "name": "python"
    }
  },
  "cells": [
    {
      "cell_type": "markdown",
      "source": [
        "# Q1) What are the five key concepts of Object-Oriented Programming (OOP)?"
      ],
      "metadata": {
        "id": "MJuuhW5zsv-C"
      }
    },
    {
      "cell_type": "markdown",
      "source": [
        "# Answer :-\n",
        "\n",
        "### Object-Oriented Programming (OOP) in Python is a programming paradigm centred around the concept of objects, which are instances of classes. OOP allows for modular, reusable, and maintainable code.\n",
        "\n",
        "## The 5 key concept of Object-Oriented Programming (OOP) are :-\n",
        "\n",
        "- ***1) Class and Object :-***\n",
        "- - ***Class :-*** A class in Python is a blueprint or template for creating objects. Think of a class as a concept or definition, like the idea of a \"car\" or a \"dog.\" It doesn’t represent a specific instance but rather the general properties and behaviours that all objects of that type will share.\n",
        "\n",
        "- - ***Object :-*** An object is an instance of a class. While a class is a concept, an object is a concrete instance of that concept. For example, if \"Dog\" is a class, then \"Buddy\" and \"Charlie\" are objects (specific instances of the class “Dog\").\n",
        "\n",
        "- ***2) Encapsulation (bundling data and methods) :-*** Encapsulation is one of the fundamental principles of OOP. It refers to the bundling of data (attributes) and methods (functions) that operate on the data into a single unit or class. Encapsulation also restricts direct access to some of an object's components, which is why it is often associated with the concept of data hiding.\n",
        "\n",
        "- ***3) Inheritance (reusing and extending code) :-*** Inheritance is a mechanism that allows a new class (child or subclass) to inherit attributes and methods from an existing class (parent or superclass). It promotes code reuse and establishes a hierarchical relationship between classes.\n",
        "\n",
        "- ***4) Polymorphism (interchangeable objects through a common interface) :-*** Polymorphism allows objects of different classes to be treated as objects of a common superclass. The most common use of polymorphism in OOP is method overriding, where a subclass provides a specific implementation of a method that is already defined in its superclass.\n",
        "\n",
        "- ***5) Abstraction (hiding complex implementation details) :-*** Abstraction is the concept of hiding the internal implementation details of an object and exposing only the necessary parts. It focuses on what an object does rather than how it does it. Abstraction can be achieved in Python using abstract classes and interfaces."
      ],
      "metadata": {
        "id": "qU_oxCYDuPir"
      }
    },
    {
      "cell_type": "markdown",
      "source": [
        "# Q2) Write a Python class for a Car with attributes for make, model, and year. Include a method to display the car's information."
      ],
      "metadata": {
        "id": "xH-EatiaxbVZ"
      }
    },
    {
      "cell_type": "code",
      "source": [
        "# Making a Python class for a Car with attributes for make, model, and year which will include a method to display the car's information :-\n",
        "\n",
        "\n",
        "# Creating a class for Car\n",
        "class Car:\n",
        "\n",
        "    # Creating a def __init__ function which is having attributes make, model, year :-\n",
        "    def __init__(self, make, model, year):\n",
        "        self.make = make\n",
        "        self.model = model\n",
        "        self.year = year\n",
        "\n",
        "    # Creating a def function/method to display_car information :-\n",
        "    def display_car(self):\n",
        "        print(f\"This is a {self.year} {self.make} {self.model}.\")\n"
      ],
      "metadata": {
        "id": "swB6D0C-1XBr"
      },
      "execution_count": 13,
      "outputs": []
    },
    {
      "cell_type": "code",
      "source": [
        "# Call the Car function and make object for class Car :-\n",
        "\n",
        "Car_1 = Car(\"Toyota\", \"Corolla\", 2019)"
      ],
      "metadata": {
        "id": "3bF084u-zkxs"
      },
      "execution_count": 14,
      "outputs": []
    },
    {
      "cell_type": "code",
      "source": [
        "Car_1.make"
      ],
      "metadata": {
        "colab": {
          "base_uri": "https://localhost:8080/",
          "height": 35
        },
        "id": "pbc4s_s70ANb",
        "outputId": "d817d362-2348-49ac-a9f8-3f7967f2483f"
      },
      "execution_count": 15,
      "outputs": [
        {
          "output_type": "execute_result",
          "data": {
            "text/plain": [
              "'Toyota'"
            ],
            "application/vnd.google.colaboratory.intrinsic+json": {
              "type": "string"
            }
          },
          "metadata": {},
          "execution_count": 15
        }
      ]
    },
    {
      "cell_type": "code",
      "source": [
        "Car_1.model"
      ],
      "metadata": {
        "colab": {
          "base_uri": "https://localhost:8080/",
          "height": 35
        },
        "id": "tFfvZWk90D98",
        "outputId": "5aa0c76c-bbb4-4a99-e710-43433e62ae9b"
      },
      "execution_count": 16,
      "outputs": [
        {
          "output_type": "execute_result",
          "data": {
            "text/plain": [
              "'Corolla'"
            ],
            "application/vnd.google.colaboratory.intrinsic+json": {
              "type": "string"
            }
          },
          "metadata": {},
          "execution_count": 16
        }
      ]
    },
    {
      "cell_type": "code",
      "source": [
        "Car_1.year"
      ],
      "metadata": {
        "colab": {
          "base_uri": "https://localhost:8080/"
        },
        "id": "nE0ibi-L0HNe",
        "outputId": "61af813c-71e8-4547-d834-7b3b2bb1b12e"
      },
      "execution_count": 17,
      "outputs": [
        {
          "output_type": "execute_result",
          "data": {
            "text/plain": [
              "2019"
            ]
          },
          "metadata": {},
          "execution_count": 17
        }
      ]
    },
    {
      "cell_type": "markdown",
      "source": [
        "# Q3) Explain the difference between instance methods and class methods. Provide an example of each."
      ],
      "metadata": {
        "id": "KStpDRir16C4"
      }
    },
    {
      "cell_type": "markdown",
      "source": [
        "# Answer :-\n",
        "\n",
        "## The differences between instance method and class method are :-\n",
        "\n",
        "- ***instance method :-***\n",
        "- - Instance methods are the most common type of methods in a class. They operate on an instance of the class and can access and modify the object's attributes.\n",
        "\n",
        "- - Instance methods require an object (instance) of the class to be called. The first parameter is always self, which refers to the instance of the class.\n",
        "\n",
        "\n",
        "- ***Class Method :-***\n",
        "\n",
        "- - A class method is a method that is bound to the class and not the object of the class. It can access and modify class state that applies across all instances of the class. To define a class method, you use the @classmethod decorator, and the first parameter is always cls, which refers to the class itself.\n",
        "\n",
        "- - Key Points: Class methods can modify a class's state that applies across all instances of the class. They can be called on the class itself, rather than on an instance of the class."
      ],
      "metadata": {
        "id": "k2gy5aYl1-7j"
      }
    },
    {
      "cell_type": "markdown",
      "source": [
        "### Example of instance method :-"
      ],
      "metadata": {
        "id": "A1xX89i53nRw"
      }
    },
    {
      "cell_type": "code",
      "source": [
        "# Create a class function for Person and use def __init__ function for the attribute:-\n",
        "\n",
        "class Person:\n",
        "    def __init__(self, name, age):\n",
        "        self.name = name\n",
        "        self.age = age\n",
        "\n",
        "    # Creating another def method/function to display :-\n",
        "    def greet(self):\n",
        "        print(f\"Hello, my name is {self.name} and I am {self.age} years old.\")\n",
        "\n"
      ],
      "metadata": {
        "id": "ZQ0tw6Bw3n4d"
      },
      "execution_count": 37,
      "outputs": []
    },
    {
      "cell_type": "code",
      "source": [
        "# Call a class function and creating object :-\n",
        "\n",
        "P_1 = Person(\"Sunita\", 28)\n",
        "P_1.greet()"
      ],
      "metadata": {
        "colab": {
          "base_uri": "https://localhost:8080/"
        },
        "id": "-NtH5d8J3pdl",
        "outputId": "e3819914-a8c8-439f-cec1-36044f0e0372"
      },
      "execution_count": 38,
      "outputs": [
        {
          "output_type": "stream",
          "name": "stdout",
          "text": [
            "Hello, my name is Sunita and I am 28 years old.\n"
          ]
        }
      ]
    },
    {
      "cell_type": "code",
      "source": [
        "P_1.age"
      ],
      "metadata": {
        "colab": {
          "base_uri": "https://localhost:8080/"
        },
        "id": "KBn7SNc83pNf",
        "outputId": "ee742de8-1f25-4441-e273-1df03a299525"
      },
      "execution_count": 39,
      "outputs": [
        {
          "output_type": "execute_result",
          "data": {
            "text/plain": [
              "28"
            ]
          },
          "metadata": {},
          "execution_count": 39
        }
      ]
    },
    {
      "cell_type": "code",
      "source": [
        "P_1.name"
      ],
      "metadata": {
        "colab": {
          "base_uri": "https://localhost:8080/",
          "height": 35
        },
        "id": "4jUBETkt4hrZ",
        "outputId": "937e9f02-427b-4996-d328-327771d718ba"
      },
      "execution_count": 40,
      "outputs": [
        {
          "output_type": "execute_result",
          "data": {
            "text/plain": [
              "'Sunita'"
            ],
            "application/vnd.google.colaboratory.intrinsic+json": {
              "type": "string"
            }
          },
          "metadata": {},
          "execution_count": 40
        }
      ]
    },
    {
      "cell_type": "markdown",
      "source": [
        "### Example of class method :-"
      ],
      "metadata": {
        "id": "_VVSiPT73GFU"
      }
    },
    {
      "cell_type": "code",
      "source": [
        "# Creating class function for Person :-\n",
        "\n",
        "class Person:\n",
        "    # taking Class attribute\n",
        "    population = 0\n",
        "\n",
        "    # Creating def __init__ function for the attribute :-\n",
        "    def __init__(self, name, age):\n",
        "        self.name = name\n",
        "        self.age = age\n",
        "        Person.population += 1   # Here, appending/Incrementing the population by 1\n",
        "\n",
        "    # Created def method to display and applying classmethod :-\n",
        "    @classmethod\n",
        "    def get_population(cls):\n",
        "        print(f\"Current population: {cls.population}\")"
      ],
      "metadata": {
        "id": "2eL69AtS0JKk"
      },
      "execution_count": 42,
      "outputs": []
    },
    {
      "cell_type": "code",
      "source": [
        "# Call a class function and creating object :-\n",
        "P1 = Person(\"Sunita\", 28)\n",
        "P2 = Person(\"Anita\", 28)\n",
        "P3 = Person(\"Asha\", 27)"
      ],
      "metadata": {
        "id": "y-6ZXyLZ569s"
      },
      "execution_count": 43,
      "outputs": []
    },
    {
      "cell_type": "code",
      "source": [
        "P1.name"
      ],
      "metadata": {
        "colab": {
          "base_uri": "https://localhost:8080/",
          "height": 35
        },
        "id": "CSgiYpub6vSs",
        "outputId": "ac864118-5238-4195-d41a-2a37bba7aa57"
      },
      "execution_count": 44,
      "outputs": [
        {
          "output_type": "execute_result",
          "data": {
            "text/plain": [
              "'Sunita'"
            ],
            "application/vnd.google.colaboratory.intrinsic+json": {
              "type": "string"
            }
          },
          "metadata": {},
          "execution_count": 44
        }
      ]
    },
    {
      "cell_type": "code",
      "source": [
        "P2.name"
      ],
      "metadata": {
        "colab": {
          "base_uri": "https://localhost:8080/",
          "height": 35
        },
        "id": "Kg6ts8-q6vFs",
        "outputId": "45213778-1604-4998-8e88-e929202a1f22"
      },
      "execution_count": 45,
      "outputs": [
        {
          "output_type": "execute_result",
          "data": {
            "text/plain": [
              "'Anita'"
            ],
            "application/vnd.google.colaboratory.intrinsic+json": {
              "type": "string"
            }
          },
          "metadata": {},
          "execution_count": 45
        }
      ]
    },
    {
      "cell_type": "code",
      "source": [
        "P3.name"
      ],
      "metadata": {
        "colab": {
          "base_uri": "https://localhost:8080/",
          "height": 35
        },
        "id": "JbXvcvUB6u-d",
        "outputId": "cc0eb7e5-088e-48a4-99a0-1ae52c72a209"
      },
      "execution_count": 46,
      "outputs": [
        {
          "output_type": "execute_result",
          "data": {
            "text/plain": [
              "'Asha'"
            ],
            "application/vnd.google.colaboratory.intrinsic+json": {
              "type": "string"
            }
          },
          "metadata": {},
          "execution_count": 46
        }
      ]
    },
    {
      "cell_type": "code",
      "source": [
        "# Call the class method\n",
        "Person.get_population()"
      ],
      "metadata": {
        "colab": {
          "base_uri": "https://localhost:8080/"
        },
        "id": "szwhbrWg5i7_",
        "outputId": "b4bb2e49-3c4c-41c4-ebd7-9677fff31353"
      },
      "execution_count": 47,
      "outputs": [
        {
          "output_type": "stream",
          "name": "stdout",
          "text": [
            "Current population: 3\n"
          ]
        }
      ]
    },
    {
      "cell_type": "markdown",
      "source": [
        "# Q4) How does Python implement method overloading? Give an example."
      ],
      "metadata": {
        "id": "gIUnRQKL7eye"
      }
    },
    {
      "cell_type": "markdown",
      "source": [
        "# Answer :-\n",
        "\n",
        "## In Python, Method Overloading is achieved by defining multiple methods with the same name within a class but with different parameter lists or using the *args and **kwargs syntax."
      ],
      "metadata": {
        "id": "RiCZqCqz7saL"
      }
    },
    {
      "cell_type": "code",
      "source": [
        "# Example of method overloading :-\n",
        "\n",
        "\n",
        "# Created a class for Student :-\n",
        "class Student:\n",
        "\n",
        "    # Creating def function with __init__ with attributes name, course, self :-\n",
        "    def __init__(self, name = None, course = None):\n",
        "        self.name = name\n",
        "        self.course = course\n",
        "\n",
        "\n",
        "    # Creating another def function to display welcom message :-\n",
        "    def welcome_message(self):\n",
        "        if self.name and self.course:\n",
        "            print(f\"Welcome to Pwskills Class, {self.name}. You are enrolled in {self.course}.\")\n",
        "        elif self.name:\n",
        "            print(f\"Welcome to Pwskills Class, {self.name}.\")\n",
        "        else:\n",
        "            print(\"Welcome to Pwskills Class.\")\n"
      ],
      "metadata": {
        "id": "Wp7ZspFzGZjy"
      },
      "execution_count": 49,
      "outputs": []
    },
    {
      "cell_type": "code",
      "source": [
        "# Making a class Student instances and calling welcome_message\n",
        "student_1 = Student()\n",
        "student_1.welcome_message()"
      ],
      "metadata": {
        "colab": {
          "base_uri": "https://localhost:8080/"
        },
        "id": "VYVavPmQGlLK",
        "outputId": "31816836-c15b-47f9-b28d-75ae77e6302a"
      },
      "execution_count": 50,
      "outputs": [
        {
          "output_type": "stream",
          "name": "stdout",
          "text": [
            "Welcome to Pwskills Class.\n"
          ]
        }
      ]
    },
    {
      "cell_type": "code",
      "source": [
        "# Making another class Student instances and calling welcome_message :-\n",
        "\n",
        "student_2 = Student(name = \"Sunita\", course = \"Data Analytics\")\n",
        "student_2.welcome_message()"
      ],
      "metadata": {
        "colab": {
          "base_uri": "https://localhost:8080/"
        },
        "id": "wK5pdgruHQAW",
        "outputId": "37501703-c7fe-4d19-fc7f-6eb86df18906"
      },
      "execution_count": 51,
      "outputs": [
        {
          "output_type": "stream",
          "name": "stdout",
          "text": [
            "Welcome to Pwskills Class, Sunita. You are enrolled in Data Analytics.\n"
          ]
        }
      ]
    },
    {
      "cell_type": "markdown",
      "source": [
        "# Q5) What are the three types of access modifiers in Python? How are they denoted?"
      ],
      "metadata": {
        "id": "k78IKRZ4IDLY"
      }
    },
    {
      "cell_type": "markdown",
      "source": [
        "# Answer :-\n",
        "\n",
        "## Python supports three types of access modifiers which are :-\n",
        "- 1) Public :- It means it is accessible from anywhere from outside / inside of the class. There is not No special prefix/syntax to denote Public\n",
        "\n",
        "- 2) Private :- Private members the data and method are only exclusively accessible within its class. You have to use **' __ ' double underscore**  with Data or Method to make it private.\n",
        "\n",
        "- 3) Protected :- Protected means that they are meant for internal use within the class and its subclasses. Protected member can be used **single underscore '_' symbol** before the data member/ methos / attributes of that class.\n",
        "\n",
        "- These access modifiers provide restrictions on the access of member variables and methods of the class from any object outside the class."
      ],
      "metadata": {
        "id": "5P-sFNZiMaB9"
      }
    },
    {
      "cell_type": "markdown",
      "source": [
        "## Example of Public :-"
      ],
      "metadata": {
        "id": "cdY0112yNPmf"
      }
    },
    {
      "cell_type": "code",
      "source": [
        "# Create the class method of 'student' using def and __init__ function\n",
        "\n",
        "# This code is 'Public' so anyone can access it and modify it.\n",
        "\n",
        "\n",
        "class Student:\n",
        "    def __init__(self, name, degree):# used name and degree attributes with self in __init__\n",
        "\n",
        "        # Make variables of name and degree:-\n",
        "        self.name = name\n",
        "        self.degree = degree"
      ],
      "metadata": {
        "id": "R1jl2layHj2i"
      },
      "execution_count": 54,
      "outputs": []
    },
    {
      "cell_type": "code",
      "source": [
        "# Make an object to call the student method\n",
        "\n",
        "\n",
        "stud1 = Student(\"Ram\", \"Masters\")"
      ],
      "metadata": {
        "id": "QbhLM9ExNywQ"
      },
      "execution_count": 55,
      "outputs": []
    },
    {
      "cell_type": "code",
      "source": [
        "# Access the object/intences 'stud1'\n",
        "\n",
        "stud1.degree"
      ],
      "metadata": {
        "colab": {
          "base_uri": "https://localhost:8080/",
          "height": 35
        },
        "id": "9jlC5KpUN3Ui",
        "outputId": "361c8845-f9f3-4839-ec05-79bd51bbf87a"
      },
      "execution_count": 56,
      "outputs": [
        {
          "output_type": "execute_result",
          "data": {
            "text/plain": [
              "'Masters'"
            ],
            "application/vnd.google.colaboratory.intrinsic+json": {
              "type": "string"
            }
          },
          "metadata": {},
          "execution_count": 56
        }
      ]
    },
    {
      "cell_type": "code",
      "source": [
        "stud1.name"
      ],
      "metadata": {
        "colab": {
          "base_uri": "https://localhost:8080/",
          "height": 35
        },
        "id": "np7ngjmbN8fc",
        "outputId": "8bced929-8497-4467-d3c6-9113f38fd984"
      },
      "execution_count": 57,
      "outputs": [
        {
          "output_type": "execute_result",
          "data": {
            "text/plain": [
              "'Ram'"
            ],
            "application/vnd.google.colaboratory.intrinsic+json": {
              "type": "string"
            }
          },
          "metadata": {},
          "execution_count": 57
        }
      ]
    },
    {
      "cell_type": "markdown",
      "source": [
        "## Example of Private :-"
      ],
      "metadata": {
        "id": "zw_eJls8OINN"
      }
    },
    {
      "cell_type": "code",
      "source": [
        "# Create the class method of 'student' using def and __init__ function\n",
        "\n",
        "# This code is 'Private' so only Private members can access within its class. can access it and modify it.\n",
        "\n",
        "# Make a \"Data / Attribute / Variable / Argument\" Private :-\n",
        "\n",
        "\n",
        "class Student:\n",
        "    def __init__(self, name, degree):\n",
        "\n",
        "        # Make variables of name and degree:-\n",
        "        self.name = name        # Let this 'name' variable Public\n",
        "        self.__degree = degree    # Make this data/variable / attribute 'degree' Private using ( __ )\n",
        "\n",
        "    # Another def method in the class student :-\n",
        "    def show(self):\n",
        "\n",
        "        # Accessing the private data member/variables\n",
        "        print(\"name\", self.name, \"degree\", self.__degree)\n",
        "\n",
        ""
      ],
      "metadata": {
        "id": "p12KH6mPN-b8"
      },
      "execution_count": 58,
      "outputs": []
    },
    {
      "cell_type": "code",
      "source": [
        "# Make an object to call the student method\n",
        "\n",
        "s1 = Student(\"Ajay\", \"Masters\")"
      ],
      "metadata": {
        "id": "N6boF7JcOrYW"
      },
      "execution_count": 59,
      "outputs": []
    },
    {
      "cell_type": "code",
      "source": [
        "# Access the object/intences 's1'\n",
        "# 'name' attribute is Public\n",
        "\n",
        "s1.name"
      ],
      "metadata": {
        "colab": {
          "base_uri": "https://localhost:8080/",
          "height": 35
        },
        "id": "ONrKhhC-OybH",
        "outputId": "cd1e46a3-4a3b-4022-c441-7f46b00c3dc2"
      },
      "execution_count": 60,
      "outputs": [
        {
          "output_type": "execute_result",
          "data": {
            "text/plain": [
              "'Ajay'"
            ],
            "application/vnd.google.colaboratory.intrinsic+json": {
              "type": "string"
            }
          },
          "metadata": {},
          "execution_count": 60
        }
      ]
    },
    {
      "cell_type": "code",
      "source": [
        "# If you want to access 'degree' attribute ------> it will through an error\n",
        "# As we made 'degree' attribute is Private using ( __ ) in the code\n",
        "# Since it is a private data ----> you will not be able to access the 'degree' attribute or change it\n",
        "\n",
        "s1.degree"
      ],
      "metadata": {
        "colab": {
          "base_uri": "https://localhost:8080/",
          "height": 176
        },
        "id": "FaWvuSGhO0a0",
        "outputId": "36b40e73-91d5-4b0e-d6c6-8f2d76063ee8"
      },
      "execution_count": 61,
      "outputs": [
        {
          "output_type": "error",
          "ename": "AttributeError",
          "evalue": "'Student' object has no attribute 'degree'",
          "traceback": [
            "\u001b[0;31m---------------------------------------------------------------------------\u001b[0m",
            "\u001b[0;31mAttributeError\u001b[0m                            Traceback (most recent call last)",
            "\u001b[0;32m<ipython-input-61-062015c9f0d3>\u001b[0m in \u001b[0;36m<cell line: 5>\u001b[0;34m()\u001b[0m\n\u001b[1;32m      3\u001b[0m \u001b[0;31m# Since it is a private data ----> you will not be able to access the 'degree' attribute or change it\u001b[0m\u001b[0;34m\u001b[0m\u001b[0;34m\u001b[0m\u001b[0m\n\u001b[1;32m      4\u001b[0m \u001b[0;34m\u001b[0m\u001b[0m\n\u001b[0;32m----> 5\u001b[0;31m \u001b[0ms1\u001b[0m\u001b[0;34m.\u001b[0m\u001b[0mdegree\u001b[0m\u001b[0;34m\u001b[0m\u001b[0;34m\u001b[0m\u001b[0m\n\u001b[0m",
            "\u001b[0;31mAttributeError\u001b[0m: 'Student' object has no attribute 'degree'"
          ]
        }
      ]
    },
    {
      "cell_type": "markdown",
      "source": [
        "## Example of Protected :-"
      ],
      "metadata": {
        "id": "F0UBC1lEQVvX"
      }
    },
    {
      "cell_type": "code",
      "source": [
        "# Create class method for protected method\n",
        "\n",
        "\n",
        "class College:\n",
        "    def __init__(self):\n",
        "\n",
        "        # Make a method protected using ' _ ' single underscore befor the method\n",
        "        self._college_name = \"M.G.K.V.P, Varanasi\"\n",
        "\n",
        "# The protected method can be accessable in 'Sub-Class / Derived Class'\n",
        "class Student(College):\n",
        "    def __init__(self, name): # this 'name' variable is for class student name\n",
        "        self.name = name\n",
        "\n",
        "        # If you want to access the college name from the college\n",
        "        # Accessing variable of Base Class\n",
        "        # 1st write the Base class with __init__(self)\n",
        "        College.__init__(self)\n",
        "\n",
        "\n",
        "    #definig another def method to access name and Base class variable name (self._college-name0:-\n",
        "    def show(self):\n",
        "        print(\"name\", self.name, \"college\", self._college_name) # Directly call the variable / Base class variable, using _ single underscore"
      ],
      "metadata": {
        "id": "-VthXnx1QdkH"
      },
      "execution_count": 63,
      "outputs": []
    },
    {
      "cell_type": "code",
      "source": [
        "# Make any object/instance for student\n",
        "\n",
        "student1 = Student(\"Sunita\")"
      ],
      "metadata": {
        "id": "gVpw-ca3O9D8"
      },
      "execution_count": 64,
      "outputs": []
    },
    {
      "cell_type": "code",
      "source": [
        "student1.name"
      ],
      "metadata": {
        "colab": {
          "base_uri": "https://localhost:8080/",
          "height": 35
        },
        "id": "GlVP763bQnar",
        "outputId": "6ac65208-992a-48a9-c375-4fad2436ba95"
      },
      "execution_count": 65,
      "outputs": [
        {
          "output_type": "execute_result",
          "data": {
            "text/plain": [
              "'Sunita'"
            ],
            "application/vnd.google.colaboratory.intrinsic+json": {
              "type": "string"
            }
          },
          "metadata": {},
          "execution_count": 65
        }
      ]
    },
    {
      "cell_type": "code",
      "source": [
        "student1.college_name"
      ],
      "metadata": {
        "colab": {
          "base_uri": "https://localhost:8080/",
          "height": 141
        },
        "id": "LqkW9GkQQy1J",
        "outputId": "8e7324c0-7362-4560-bf85-0fab8f24b7c9"
      },
      "execution_count": 66,
      "outputs": [
        {
          "output_type": "error",
          "ename": "AttributeError",
          "evalue": "'Student' object has no attribute 'college_name'",
          "traceback": [
            "\u001b[0;31m---------------------------------------------------------------------------\u001b[0m",
            "\u001b[0;31mAttributeError\u001b[0m                            Traceback (most recent call last)",
            "\u001b[0;32m<ipython-input-66-5dccfc5c491b>\u001b[0m in \u001b[0;36m<cell line: 1>\u001b[0;34m()\u001b[0m\n\u001b[0;32m----> 1\u001b[0;31m \u001b[0mstudent1\u001b[0m\u001b[0;34m.\u001b[0m\u001b[0mcollege_name\u001b[0m\u001b[0;34m\u001b[0m\u001b[0;34m\u001b[0m\u001b[0m\n\u001b[0m",
            "\u001b[0;31mAttributeError\u001b[0m: 'Student' object has no attribute 'college_name'"
          ]
        }
      ]
    },
    {
      "cell_type": "code",
      "source": [
        "student1.show()"
      ],
      "metadata": {
        "colab": {
          "base_uri": "https://localhost:8080/"
        },
        "id": "qEoXNW6aQnXJ",
        "outputId": "75079977-d3b2-4f57-86cf-3961d58765fc"
      },
      "execution_count": 67,
      "outputs": [
        {
          "output_type": "stream",
          "name": "stdout",
          "text": [
            "name Sunita college M.G.K.V.P, Varanasi\n"
          ]
        }
      ]
    },
    {
      "cell_type": "markdown",
      "source": [
        "# Q6)  Describe the five types of inheritance in Python. Provide a simple example of multiple inheritance."
      ],
      "metadata": {
        "id": "yYB3QNaORLPH"
      }
    },
    {
      "cell_type": "markdown",
      "source": [
        "# Answer :-\n",
        "\n",
        "## 5 Types of inheritance in Python are :-\n",
        "- ***1) Single Inheritance :-*** When a derived class has only one parent class is ,called as single inheritance.\n",
        "\n",
        "- ***2) Multi-level Inheritance :-***\n",
        "- - Multilevel Inheritance in Python is a type of Inheritance that involves inheriting a class that has already inherited some other class.\n",
        ",\n",
        "- - It allows a class to inherit properties and methods from multiple parent classes, forming a hierarchy similar to a family tree.\n",
        "\n",
        "- ***3) Multiple Inheritance :-***\n",
        "- - When a class is derived from more than one base class it is called multiple Inheritance.\n",
        "\n",
        "- - It means one child class may inherit the property of multiple parent class.\n",
        "\n",
        "- ***4) Hierarchical Inheritance :-***\n",
        "- - One Parent Class ----> Multiple(more than two child class)\n",
        "\n",
        "- - Hierarchical Inheritance is a specific form of inheritance in Python that involves a single base class with multiple derived classes.\n",
        "\n",
        "- - When more than one derived class are created from a single base this type of inheritance is called hierarchical inheritance.\n",
        "\n",
        "- ***5) Hybrid Inheritance :-***\n",
        "- - Hybrid inheritance is a combination of more than one type of inheritance.\n",
        "\n",
        "- - Hybrid inheritance is a blend of multiple inheritance types.\n",
        "\n",
        "- - In hybrid inheritance, classes are derived from more than one base class, creating a complex inheritance structure.\n"
      ],
      "metadata": {
        "id": "cfFeIQF1RO5K"
      }
    },
    {
      "cell_type": "markdown",
      "source": [
        "### Example of Single inheritance :-"
      ],
      "metadata": {
        "id": "dIQ_5OKYSnF9"
      }
    },
    {
      "cell_type": "code",
      "source": [
        "# Make a class Method/Function for Single inheritance :-\n",
        "\n",
        "class Father:\n",
        "    def father_property(self):\n",
        "        print(\"This is the father property\")\n",
        "\n",
        "class Son(Father):\n",
        "    def job(self):\n",
        "        print(\"Son has property from job\")"
      ],
      "metadata": {
        "id": "8dFW9KNIQnUv"
      },
      "execution_count": 90,
      "outputs": []
    },
    {
      "cell_type": "code",
      "source": [
        "# Make an object/instance for 'Son' class\n",
        "\n",
        "child_obj = Son()\n",
        "child_obj.job()"
      ],
      "metadata": {
        "colab": {
          "base_uri": "https://localhost:8080/"
        },
        "id": "ssCyp3R5VwRR",
        "outputId": "e993b688-1c9c-48b4-acc9-0f6e481dbf6b"
      },
      "execution_count": 92,
      "outputs": [
        {
          "output_type": "stream",
          "name": "stdout",
          "text": [
            "Son has property from job\n"
          ]
        }
      ]
    },
    {
      "cell_type": "code",
      "source": [
        "child_obj.father_property()"
      ],
      "metadata": {
        "colab": {
          "base_uri": "https://localhost:8080/"
        },
        "id": "tiAiS0chVwGA",
        "outputId": "5ba5702f-81f4-41e2-8d2b-9cc30491ca02"
      },
      "execution_count": 93,
      "outputs": [
        {
          "output_type": "stream",
          "name": "stdout",
          "text": [
            "This is the father property\n"
          ]
        }
      ]
    },
    {
      "cell_type": "code",
      "source": [
        "parent_obj = Father()\n",
        "parent_obj.father_property()"
      ],
      "metadata": {
        "colab": {
          "base_uri": "https://localhost:8080/"
        },
        "id": "3rdlqU4bV9_o",
        "outputId": "8feb0b61-6452-48fe-a383-462ae80a9e59"
      },
      "execution_count": 94,
      "outputs": [
        {
          "output_type": "stream",
          "name": "stdout",
          "text": [
            "This is the father property\n"
          ]
        }
      ]
    },
    {
      "cell_type": "code",
      "source": [
        "# You will not able to access the Son property,\n",
        "# If you will do, it will through an error\n",
        "\n",
        "parent_obj.job()"
      ],
      "metadata": {
        "colab": {
          "base_uri": "https://localhost:8080/",
          "height": 176
        },
        "id": "eGQ0hA40WHBt",
        "outputId": "c9829a59-f35a-44c9-e983-c08dbf00cbf9"
      },
      "execution_count": 95,
      "outputs": [
        {
          "output_type": "error",
          "ename": "AttributeError",
          "evalue": "'Father' object has no attribute 'job'",
          "traceback": [
            "\u001b[0;31m---------------------------------------------------------------------------\u001b[0m",
            "\u001b[0;31mAttributeError\u001b[0m                            Traceback (most recent call last)",
            "\u001b[0;32m<ipython-input-95-e7b6e66390e4>\u001b[0m in \u001b[0;36m<cell line: 4>\u001b[0;34m()\u001b[0m\n\u001b[1;32m      2\u001b[0m \u001b[0;31m# If you will do, it will through an error\u001b[0m\u001b[0;34m\u001b[0m\u001b[0;34m\u001b[0m\u001b[0m\n\u001b[1;32m      3\u001b[0m \u001b[0;34m\u001b[0m\u001b[0m\n\u001b[0;32m----> 4\u001b[0;31m \u001b[0mparent_obj\u001b[0m\u001b[0;34m.\u001b[0m\u001b[0mjob\u001b[0m\u001b[0;34m(\u001b[0m\u001b[0;34m)\u001b[0m\u001b[0;34m\u001b[0m\u001b[0;34m\u001b[0m\u001b[0m\n\u001b[0m",
            "\u001b[0;31mAttributeError\u001b[0m: 'Father' object has no attribute 'job'"
          ]
        }
      ]
    },
    {
      "cell_type": "markdown",
      "source": [
        "### Example of Multi-level Inheritance :-"
      ],
      "metadata": {
        "id": "uUMM47_cSyZO"
      }
    },
    {
      "cell_type": "code",
      "source": [
        "# Make a class Method/Function for Multi-level Inheritance :-\n",
        "\n",
        "class Vehicle:\n",
        "    def vehicle_info(self):\n",
        "        print(\"Inside the vehicle class\")\n",
        "\n",
        "class Car(Vehicle):\n",
        "    def car_info(self):\n",
        "        print(\"Inside the car class\")\n",
        "\n",
        "class Sports_Car(Car):\n",
        "    def sports_car_info(self):\n",
        "        print(\"Inside the sports car\")"
      ],
      "metadata": {
        "id": "BWKRtTCtQnSW"
      },
      "execution_count": 84,
      "outputs": []
    },
    {
      "cell_type": "code",
      "source": [
        "# Call the class for Vehicle\n",
        "# You will get 1 property/attributes/function/Method ---->\n",
        "# here which belongs to vehicle\n",
        "\n",
        "# Make an object for Vehicles  :-\n",
        "\n",
        "vehicle_1 = Vehicle()\n",
        "vehicle_1.vehicle_info()"
      ],
      "metadata": {
        "colab": {
          "base_uri": "https://localhost:8080/"
        },
        "id": "BGQTaXsQUqde",
        "outputId": "b58b9ae5-a9bd-4a91-b96e-a7b3ef9086d9"
      },
      "execution_count": 85,
      "outputs": [
        {
          "output_type": "stream",
          "name": "stdout",
          "text": [
            "Inside the vehicle class\n"
          ]
        }
      ]
    },
    {
      "cell_type": "code",
      "source": [
        "car_2 = Car()\n",
        "car_2.vehicle_info()"
      ],
      "metadata": {
        "colab": {
          "base_uri": "https://localhost:8080/"
        },
        "id": "7oLwsy7UUqaK",
        "outputId": "31312ad0-7164-4ab3-d844-e29ee53423f2"
      },
      "execution_count": 86,
      "outputs": [
        {
          "output_type": "stream",
          "name": "stdout",
          "text": [
            "Inside the vehicle class\n"
          ]
        }
      ]
    },
    {
      "cell_type": "code",
      "source": [
        "# Call the class for sportscar\n",
        "# You will get 2 property/attributes/function/Method ---->\n",
        "# His own, then car's and vehicle's property here\n",
        "\n",
        "# Make an object for SportsCar  :-\n",
        "\n",
        "sports_car = Sports_Car()\n",
        "sports_car.vehicle_info()"
      ],
      "metadata": {
        "colab": {
          "base_uri": "https://localhost:8080/"
        },
        "id": "S2S1az_HU17q",
        "outputId": "534e5bfa-27f2-4238-e200-bea6b0f4cad5"
      },
      "execution_count": 87,
      "outputs": [
        {
          "output_type": "stream",
          "name": "stdout",
          "text": [
            "Inside the vehicle class\n"
          ]
        }
      ]
    },
    {
      "cell_type": "code",
      "source": [
        "sports_car_1 = Sports_Car()\n",
        "sports_car_1.car_info()"
      ],
      "metadata": {
        "colab": {
          "base_uri": "https://localhost:8080/"
        },
        "id": "W5IZlHIQU1sC",
        "outputId": "f2b03ae6-923a-4a1b-ce7c-e32a89865bb4"
      },
      "execution_count": 88,
      "outputs": [
        {
          "output_type": "stream",
          "name": "stdout",
          "text": [
            "Inside the car class\n"
          ]
        }
      ]
    },
    {
      "cell_type": "code",
      "source": [
        "sports_car_2 = Sports_Car()\n",
        "sports_car_2.sports_car_info()"
      ],
      "metadata": {
        "colab": {
          "base_uri": "https://localhost:8080/"
        },
        "id": "pYFCxCXFVAVY",
        "outputId": "169097ea-0821-4222-adb9-28b8869936a8"
      },
      "execution_count": 89,
      "outputs": [
        {
          "output_type": "stream",
          "name": "stdout",
          "text": [
            "Inside the sports car\n"
          ]
        }
      ]
    },
    {
      "cell_type": "markdown",
      "source": [
        "### Example of Multiple Inheritance :-"
      ],
      "metadata": {
        "id": "-lZjtwNPS424"
      }
    },
    {
      "cell_type": "code",
      "source": [
        "# Create the Multiple inheritance class\n",
        "# Using 'def function' to create method\n",
        "\n",
        "# Create the Base Class :-\n",
        "\n",
        "class ParentClass_1():\n",
        "    def method_1(self):\n",
        "        print(\"1st BaseClass Method with Parent class 1\")\n",
        "\n",
        "class ParentClass_2():\n",
        "    def method_2(self):\n",
        "        print(\"2nd BaseClass Method with Parent class 2\")\n",
        "\n",
        "# Create the Derived Class :-\n",
        "\n",
        "class ChildClass(ParentClass_1, ParentClass_2):\n",
        "    def childclass(self):\n",
        "        print(\"Method of child class\")"
      ],
      "metadata": {
        "id": "SQh-NHpgS4Pk"
      },
      "execution_count": 78,
      "outputs": []
    },
    {
      "cell_type": "code",
      "source": [
        "# Make an object for ChildClass\n",
        "# then call the class method\n",
        "\n",
        "# ChildClass will be able to access of all the property/attributes of both the Base Class method in child class\n",
        "\n",
        "obj = ChildClass()\n",
        "obj.childclass()"
      ],
      "metadata": {
        "colab": {
          "base_uri": "https://localhost:8080/"
        },
        "id": "cbG49n0QUD_M",
        "outputId": "943f5722-66be-42c9-a29e-c5113ea2d077"
      },
      "execution_count": 79,
      "outputs": [
        {
          "output_type": "stream",
          "name": "stdout",
          "text": [
            "Method of child class\n"
          ]
        }
      ]
    },
    {
      "cell_type": "code",
      "source": [
        "obj.method_1()"
      ],
      "metadata": {
        "colab": {
          "base_uri": "https://localhost:8080/"
        },
        "id": "_xvGYzy1UD7z",
        "outputId": "e22580be-e88b-4235-81b2-957d5d9eca12"
      },
      "execution_count": 80,
      "outputs": [
        {
          "output_type": "stream",
          "name": "stdout",
          "text": [
            "1st BaseClass Method with Parent class 1\n"
          ]
        }
      ]
    },
    {
      "cell_type": "code",
      "source": [
        "obj.method_2()"
      ],
      "metadata": {
        "colab": {
          "base_uri": "https://localhost:8080/"
        },
        "id": "yyMKorGGUD4z",
        "outputId": "4945c2c1-a6ee-4a3f-d705-d79274a4bb21"
      },
      "execution_count": 81,
      "outputs": [
        {
          "output_type": "stream",
          "name": "stdout",
          "text": [
            "2nd BaseClass Method with Parent class 2\n"
          ]
        }
      ]
    },
    {
      "cell_type": "code",
      "source": [
        "# Make an object for ParentClass_1\n",
        "# then call the class method\n",
        "\n",
        "# ParentClass_1 will be able to access the property/attributes of ParentClass_1 only\n",
        "\n",
        "# This will not able to access the other method of parentClass_2 or from the childclass, it will through an error\n",
        "\n",
        "\n",
        "obj_2 = ParentClass_1()\n",
        "obj_2.method_1()"
      ],
      "metadata": {
        "colab": {
          "base_uri": "https://localhost:8080/"
        },
        "id": "UEjFgzZZUPoS",
        "outputId": "be5a3393-b79e-4b37-e672-0d2a13bb5510"
      },
      "execution_count": 82,
      "outputs": [
        {
          "output_type": "stream",
          "name": "stdout",
          "text": [
            "1st BaseClass Method with Parent class 1\n"
          ]
        }
      ]
    },
    {
      "cell_type": "code",
      "source": [
        "# It will through an error if you want to access the other class method\n",
        "\n",
        "obj_2.metho_2()"
      ],
      "metadata": {
        "colab": {
          "base_uri": "https://localhost:8080/",
          "height": 176
        },
        "id": "3SxohWQNUD2A",
        "outputId": "9c420d5c-3cf0-44fc-f21c-60909786252d"
      },
      "execution_count": 83,
      "outputs": [
        {
          "output_type": "error",
          "ename": "AttributeError",
          "evalue": "'ParentClass_1' object has no attribute 'metho_2'",
          "traceback": [
            "\u001b[0;31m---------------------------------------------------------------------------\u001b[0m",
            "\u001b[0;31mAttributeError\u001b[0m                            Traceback (most recent call last)",
            "\u001b[0;32m<ipython-input-83-ddb2c0a5859e>\u001b[0m in \u001b[0;36m<cell line: 3>\u001b[0;34m()\u001b[0m\n\u001b[1;32m      1\u001b[0m \u001b[0;31m# It will through an error if you want to access the other class method\u001b[0m\u001b[0;34m\u001b[0m\u001b[0;34m\u001b[0m\u001b[0m\n\u001b[1;32m      2\u001b[0m \u001b[0;34m\u001b[0m\u001b[0m\n\u001b[0;32m----> 3\u001b[0;31m \u001b[0mobj_2\u001b[0m\u001b[0;34m.\u001b[0m\u001b[0mmetho_2\u001b[0m\u001b[0;34m(\u001b[0m\u001b[0;34m)\u001b[0m\u001b[0;34m\u001b[0m\u001b[0;34m\u001b[0m\u001b[0m\n\u001b[0m",
            "\u001b[0;31mAttributeError\u001b[0m: 'ParentClass_1' object has no attribute 'metho_2'"
          ]
        }
      ]
    },
    {
      "cell_type": "markdown",
      "source": [
        "### Example of Hierarchical Inheritance :-"
      ],
      "metadata": {
        "id": "ZGoL0Y9dS_Zs"
      }
    },
    {
      "cell_type": "code",
      "source": [
        "# Create a class method for Hierarchical Inheritance using 'def function'\n",
        "\n",
        "class Vehicle:\n",
        "    def vehicle_info(self):\n",
        "        print(\"This is vehicle\")\n",
        "\n",
        "class Car(Vehicle):\n",
        "    def car_info(self, name):\n",
        "        print(\"This is Car info\", name)\n",
        "\n",
        "class Truck(Vehicle):\n",
        "    def truck_info(self, name):\n",
        "        print(\"This is Truck info\", name)"
      ],
      "metadata": {
        "id": "2bbSgu5SS4fg"
      },
      "execution_count": 73,
      "outputs": []
    },
    {
      "cell_type": "code",
      "source": [
        "# Make an object to call the class method\n",
        "\n",
        "c1 = Car()\n",
        "c1.vehicle_info()"
      ],
      "metadata": {
        "colab": {
          "base_uri": "https://localhost:8080/"
        },
        "id": "55obt-YwTfF_",
        "outputId": "42286ffd-0c9e-4818-d6ee-c70a5cc75824"
      },
      "execution_count": 74,
      "outputs": [
        {
          "output_type": "stream",
          "name": "stdout",
          "text": [
            "This is vehicle\n"
          ]
        }
      ]
    },
    {
      "cell_type": "code",
      "source": [
        "c1.car_info(\"BMW\")"
      ],
      "metadata": {
        "colab": {
          "base_uri": "https://localhost:8080/"
        },
        "id": "7oDJlvi4TfCq",
        "outputId": "53b3d00b-4871-4087-e9c3-52bdfdf1959d"
      },
      "execution_count": 75,
      "outputs": [
        {
          "output_type": "stream",
          "name": "stdout",
          "text": [
            "This is Car info BMW\n"
          ]
        }
      ]
    },
    {
      "cell_type": "code",
      "source": [
        "t1 = Truck()\n",
        "t1.vehicle_info()"
      ],
      "metadata": {
        "colab": {
          "base_uri": "https://localhost:8080/"
        },
        "id": "-VkiY8PXTtNA",
        "outputId": "14748319-d5b4-494f-fd75-735b53e89671"
      },
      "execution_count": 76,
      "outputs": [
        {
          "output_type": "stream",
          "name": "stdout",
          "text": [
            "This is vehicle\n"
          ]
        }
      ]
    },
    {
      "cell_type": "code",
      "source": [
        "t1.truck_info(\"JCB\")"
      ],
      "metadata": {
        "colab": {
          "base_uri": "https://localhost:8080/"
        },
        "id": "YorqgNsnTtBR",
        "outputId": "7595d97a-dcc7-4e6e-fa81-ad13407b472c"
      },
      "execution_count": 77,
      "outputs": [
        {
          "output_type": "stream",
          "name": "stdout",
          "text": [
            "This is Truck info JCB\n"
          ]
        }
      ]
    },
    {
      "cell_type": "markdown",
      "source": [
        "### Example of Hybrid Inheritance :-"
      ],
      "metadata": {
        "id": "aIvulWb9TD_Z"
      }
    },
    {
      "cell_type": "code",
      "source": [
        " # Create the class method for Hybrid Inheritance\n",
        "\n",
        "\n",
        "class Vehicle:\n",
        "    def vehicle_info(self):\n",
        "        print(\"Inside the Vehicle Class\")\n",
        "\n",
        "class Car(Vehicle):\n",
        "    def car_info(self):\n",
        "        print(\"Inside the Car Class\")\n",
        "\n",
        "class Sports_Car(Vehicle):\n",
        "    def sportscar_info(self, name):\n",
        "        print(\"Inside the Sports Car Class\", name)\n",
        "\n",
        "class Truck(Car, Vehicle):\n",
        "    def truck_info(self):\n",
        "        print(\"Inside the Truck Class\")"
      ],
      "metadata": {
        "id": "ftspA-y2S4b2"
      },
      "execution_count": 69,
      "outputs": []
    },
    {
      "cell_type": "code",
      "source": [
        "# Make object for truck to call the class method\n",
        "\n",
        "\n",
        "t1 = Truck()\n",
        "t1.car_info()"
      ],
      "metadata": {
        "colab": {
          "base_uri": "https://localhost:8080/"
        },
        "id": "ZGdyJ8EsS4ZQ",
        "outputId": "ec5a56ba-9b44-480e-d388-eb36c7dfa886"
      },
      "execution_count": 70,
      "outputs": [
        {
          "output_type": "stream",
          "name": "stdout",
          "text": [
            "Inside the Car Class\n"
          ]
        }
      ]
    },
    {
      "cell_type": "code",
      "source": [
        "t1.vehicle_info()"
      ],
      "metadata": {
        "colab": {
          "base_uri": "https://localhost:8080/"
        },
        "id": "ecBYd4j7S4Wo",
        "outputId": "2f3ee75f-82b3-42c6-e19f-db090326f2c1"
      },
      "execution_count": 71,
      "outputs": [
        {
          "output_type": "stream",
          "name": "stdout",
          "text": [
            "Inside the Vehicle Class\n"
          ]
        }
      ]
    },
    {
      "cell_type": "code",
      "source": [
        "t1.truck_info()"
      ],
      "metadata": {
        "colab": {
          "base_uri": "https://localhost:8080/"
        },
        "id": "amYhLlP9S4UF",
        "outputId": "ddec0a16-0af3-4d92-8fd0-2cd6c999e631"
      },
      "execution_count": 72,
      "outputs": [
        {
          "output_type": "stream",
          "name": "stdout",
          "text": [
            "Inside the Truck Class\n"
          ]
        }
      ]
    },
    {
      "cell_type": "markdown",
      "source": [
        "# Q7 What is the Method Resolution Order (MRO) in Python? How can you retrieve it programmatically?"
      ],
      "metadata": {
        "id": "p69LKFuaWOc1"
      }
    },
    {
      "cell_type": "markdown",
      "source": [
        "# Answer :-\n",
        "\n",
        "- Method Resolution Order (MRO) in python is the order in which Python looks for a method in a hierarchy of classes. Especially it plays vital role in the context of multiple inheritance as single method may be found in multiple super classes.\n",
        "\n",
        "- In Python, the MRO is determined using an algorithm called C3 linearization, which provides a consistent way to linearize the class hierarchy. This algorithm ensures that the base classes are checked in a predictable and well-defined order, taking into account the inheritance relationships and the order of base classes in the class definition.\n",
        "\n",
        "- To retrieve the MRO programmatically -----> ***You can use the mro() method of a class or the __mro__ attribute.***"
      ],
      "metadata": {
        "id": "YvV2RtIIWq7U"
      }
    },
    {
      "cell_type": "code",
      "source": [
        "# Example to retrieve the MRO programmatically by using the mro() method of a class or the __mro__ attribute.\n",
        "\n",
        "class A:\n",
        "    pass\n",
        "\n",
        "class B(A):\n",
        "    pass\n",
        "\n",
        "class C(A):\n",
        "    pass\n",
        "\n",
        "class D(B, C):\n",
        "    pass\n"
      ],
      "metadata": {
        "id": "uNJQtAYsTZlw"
      },
      "execution_count": 97,
      "outputs": []
    },
    {
      "cell_type": "code",
      "source": [
        "# Retrieve through mro() of class D :-\n",
        "print(D.mro())\n"
      ],
      "metadata": {
        "colab": {
          "base_uri": "https://localhost:8080/"
        },
        "id": "wrhdN7udXXLq",
        "outputId": "8eceb39a-daef-4492-a2d5-240a876a489d"
      },
      "execution_count": 98,
      "outputs": [
        {
          "output_type": "stream",
          "name": "stdout",
          "text": [
            "[<class '__main__.D'>, <class '__main__.B'>, <class '__main__.C'>, <class '__main__.A'>, <class 'object'>]\n"
          ]
        }
      ]
    },
    {
      "cell_type": "code",
      "source": [
        "# Retrieve through a class through the __mro__ attribute :-\n",
        "print(D.__mro__)"
      ],
      "metadata": {
        "colab": {
          "base_uri": "https://localhost:8080/"
        },
        "id": "LFa1F_LAZpNp",
        "outputId": "db549703-2509-4fc0-9e4b-8fd3a31ec230"
      },
      "execution_count": 99,
      "outputs": [
        {
          "output_type": "stream",
          "name": "stdout",
          "text": [
            "(<class '__main__.D'>, <class '__main__.B'>, <class '__main__.C'>, <class '__main__.A'>, <class 'object'>)\n"
          ]
        }
      ]
    },
    {
      "cell_type": "markdown",
      "source": [
        "# Q8) Create an abstract base class 'Shape' with an abstract method 'area()'. Then create two subclasses 'Circle' and 'Rectangle' that implement the 'area()' method.\n",
        "\n",
        "\n"
      ],
      "metadata": {
        "id": "UjivxCdYamxH"
      }
    },
    {
      "cell_type": "code",
      "source": [
        "# Example of abstract base class :-\n",
        "\n",
        "\n",
        "# Import abc, math from library :-\n",
        "from abc import ABC, abstractmethod\n",
        "import math\n",
        "\n",
        "\n",
        "# Create class for Shape with (ABC) :-\n",
        "class Shape(ABC):\n",
        "    @abstractmethod\n",
        "    def area(self):\n",
        "        \"\"\"Compute the area of the shape.\"\"\"\n",
        "        pass\n",
        "\n",
        "\n",
        "# Create class for Circle with Shape :-\n",
        "class Circle(Shape):\n",
        "    def __init__(self, radius):\n",
        "        self.radius = radius\n",
        "\n",
        "    def area(self):\n",
        "        # Here computing the area of shape :-\n",
        "        return math.pi * (self.radius ** 2)\n",
        "\n",
        "\n",
        "# Create class for Rectangle with Shape :-\n",
        "class Rectangle(Shape):\n",
        "    def __init__(self, width, height):\n",
        "        self.width = width\n",
        "        self.height = height\n",
        "\n",
        "    def area(self):\n",
        "        # Here computing the area of rectangle :-\n",
        "        return self.width * self.height\n"
      ],
      "metadata": {
        "id": "gfi1jO2NaHzE"
      },
      "execution_count": 101,
      "outputs": []
    },
    {
      "cell_type": "code",
      "source": [
        "# Using the circle and rectangle :-\n",
        "\n",
        "\n",
        "circle = Circle(radius = 5)\n",
        "rectangle = Rectangle(width = 4, height = 6)\n",
        "\n",
        "print(f\"Circle area: {circle.area()}\")\n",
        "print(f\"Rectangle area: {rectangle.area()}\")"
      ],
      "metadata": {
        "colab": {
          "base_uri": "https://localhost:8080/"
        },
        "id": "VLNVjS0EcT5s",
        "outputId": "7398907f-130f-43eb-dcab-b27fe0ea28b5"
      },
      "execution_count": 104,
      "outputs": [
        {
          "output_type": "stream",
          "name": "stdout",
          "text": [
            "Circle area: 78.53981633974483\n",
            "Rectangle area: 24\n"
          ]
        }
      ]
    },
    {
      "cell_type": "markdown",
      "source": [
        "# Q9) Demonstrate polymorphism by creating a function that can work with different shape objects to calculate and print their areas."
      ],
      "metadata": {
        "id": "4GYmt3bleApA"
      }
    },
    {
      "cell_type": "code",
      "source": [
        "# Creating a Base class of Shape :-\n",
        "class Shape:\n",
        "    def area(self):\n",
        "        raise NotImplementedError(\"Subclasses must implement this method\")\n",
        "\n",
        "# Then, Created a Subclass for Square :-\n",
        "class Square(Shape):\n",
        "    def __init__(self, side):\n",
        "        self.side = side\n",
        "\n",
        "    def area(self):\n",
        "        return self.side * self.side\n",
        "\n",
        "# Created a Subclass for Circle :-\n",
        "class Circle(Shape):\n",
        "    def __init__(self, radius):\n",
        "        self.radius = radius\n",
        "\n",
        "    def area(self):\n",
        "        return 3.14 * self.radius * self.radius\n",
        "\n",
        "# Created a def Function/method to print area of any shape :-\n",
        "def print_area(shape):\n",
        "    if not isinstance(shape, Shape):\n",
        "        raise TypeError(\"Expected a Shape instance\")\n",
        "    print(f\"The area of the shape is: {shape.area()}\")\n"
      ],
      "metadata": {
        "id": "GqrYQeuwcgJk"
      },
      "execution_count": 106,
      "outputs": []
    },
    {
      "cell_type": "code",
      "source": [
        "# Created instances/object of class Square and Circle :-\n",
        "square_1 = Square(7)\n",
        "circle_1 = Circle(6)\n",
        "\n",
        "# Use the print_area function to calculate and print their areas\n",
        "print_area(square_1)\n",
        "print_area(circle_1)"
      ],
      "metadata": {
        "colab": {
          "base_uri": "https://localhost:8080/"
        },
        "id": "PNfAoayWePgd",
        "outputId": "c324062c-0af1-4241-9f49-34456844ca3d"
      },
      "execution_count": 108,
      "outputs": [
        {
          "output_type": "stream",
          "name": "stdout",
          "text": [
            "The area of the shape is: 49\n",
            "The area of the shape is: 113.03999999999999\n"
          ]
        }
      ]
    },
    {
      "cell_type": "markdown",
      "source": [
        "# Q10)  Implement encapsulation in a 'BankAccount' class with private attributes for 'balance' and 'account_number'. Include methods for deposit, withdrawal, and balance inquiry."
      ],
      "metadata": {
        "id": "hEvCLnzBfP1U"
      }
    },
    {
      "cell_type": "code",
      "source": [
        "# Create a method to call \"Bank Account\"\n",
        "\n",
        "# In the bank, either you deposit or withdraw\n",
        "\n",
        "\n",
        "class Bank_Account:\n",
        "    def __init__(self, balance, account_number):\n",
        "        # Make the attribute private\n",
        "        self.__balance = balance\n",
        "        self.__account_number = account_number\n",
        "\n",
        "    # Making a new def method for deposit and mentiond attribute 'amount' with condition that if:-\n",
        "    def deposit(self, amount):\n",
        "        if amount > 0:\n",
        "            self.__balance += amount  # append some amount from the default bank 'balance'\n",
        "            print(f\"Deposited {amount}. New balance is {self.__balance}.\")\n",
        "        else:\n",
        "            print(\"Deposit amount must be positive.\")\n",
        "\n",
        "    # Making a new def method for withdrawal and mentiond attribute 'amount' with condition that if:-\n",
        "    def withdraw(self, amount):\n",
        "        if amount > 0:\n",
        "            if amount <= self.__balance:\n",
        "                self.__balance -= amount\n",
        "                print(f\"Withdrew {amount}. New balance is {self.__balance}.\")\n",
        "            else:\n",
        "                print(\"Insufficient funds.\")\n",
        "        else:\n",
        "            print(\"Withdrawal amount must be positive.\")\n",
        "\n",
        "\n",
        "    # Define / Make new def method to get the balance / to know the balance:-\n",
        "    def get_balance(self):\n",
        "        return(\"This is your available balance\", self.__balance)\n",
        "\n",
        "    # Define / Make new def method to get the account number / to know the account number:-\n",
        "    def get_account_number(self):\n",
        "        # It will returns the account number:-\n",
        "        return self.__account_number"
      ],
      "metadata": {
        "id": "713SMrANgSZ7"
      },
      "execution_count": 124,
      "outputs": []
    },
    {
      "cell_type": "code",
      "source": [
        "# Create an instance/object of the BankAccount class :-\n",
        "\n",
        "\n",
        "account = Bank_Account(100000, \"122864892\")\n",
        "print(f\"Account Number: {account.get_account_number()}\")\n",
        "print(f\"Initial Balance: {account.get_balance()}\")\n",
        "\n",
        "# Deposit the amount 500 :-\n",
        "account.deposit(500)\n",
        "\n",
        "# Withdraw amount 1000 :-\n",
        "account.withdraw(1000)\n",
        "\n",
        "# Again withdraw amount 1000 :-\n",
        "account.withdraw(1000)"
      ],
      "metadata": {
        "colab": {
          "base_uri": "https://localhost:8080/"
        },
        "id": "Xls_MWKYhTQJ",
        "outputId": "cd289f88-1801-4dcd-fecb-2fa5c4d5ed06"
      },
      "execution_count": 125,
      "outputs": [
        {
          "output_type": "stream",
          "name": "stdout",
          "text": [
            "Account Number: 122864892\n",
            "Initial Balance: ('This is your available balance', 100000)\n",
            "Deposited 500. New balance is 100500.\n",
            "Withdrew 1000. New balance is 99500.\n",
            "Withdrew 1000. New balance is 98500.\n"
          ]
        }
      ]
    },
    {
      "cell_type": "code",
      "source": [
        "# To Access the get_balance()\n",
        "\n",
        "account.get_balance()"
      ],
      "metadata": {
        "colab": {
          "base_uri": "https://localhost:8080/"
        },
        "id": "Hj1YifkshsCA",
        "outputId": "e91474c8-792e-47a6-f324-d55ce986300f"
      },
      "execution_count": 126,
      "outputs": [
        {
          "output_type": "execute_result",
          "data": {
            "text/plain": [
              "('This is your available balance', 98500)"
            ]
          },
          "metadata": {},
          "execution_count": 126
        }
      ]
    },
    {
      "cell_type": "markdown",
      "source": [
        "# Q11) Write a `class that overrides the '__str__' and '__add__ magic methods. What will these methods allow you to do ?"
      ],
      "metadata": {
        "id": "chPyjesglRCD"
      }
    },
    {
      "cell_type": "markdown",
      "source": [
        "# Answer :- Magic method is also known as Dunder / Special Methods It is a combined of \"D + under\" -----> It means double underscore in staring and ending.\n",
        "\n",
        "- All the method surrounding double underscore is a dunder method. It is a method that has double underscores before and after its name.\n"
      ],
      "metadata": {
        "id": "aRjbOYpOpd_T"
      }
    },
    {
      "cell_type": "code",
      "source": [
        "# Created class Point to perform '__str__' and '__add__' magic method :-\n",
        "class Point:\n",
        "\n",
        "    # Created a def __init__ function with attribute self, x and y :-\n",
        "    def __init__(self, x, y):\n",
        "        self.x = x\n",
        "        self.y = y\n",
        "\n",
        "    # Created def function for __str__ magic method :-\n",
        "    def __str__(self):\n",
        "        return f\"Point({self.x}, {self.y})\"\n",
        "\n",
        "    # Created def function for __add__ magic method :-\n",
        "    def __add__(self, other):\n",
        "        if isinstance(other, Point):\n",
        "            return Point(self.x + other.x, self.y + other.y)\n",
        "        return NotImplemented\n",
        "\n",
        "\n",
        "# Summary :-\n",
        "# These '__str__' and '__add__' methods allow us to do :-\n",
        "\n",
        "# Overriding __str__ allows to control how an object is represented as a string.\n",
        "\n",
        "# Overriding __add__ lets define how objects of your class should behave with the + operator."
      ],
      "metadata": {
        "id": "2ObgFvVYk6vi"
      },
      "execution_count": 127,
      "outputs": []
    },
    {
      "cell_type": "code",
      "source": [
        "# Creating instances/object of class Point :-\n",
        "\n",
        "p1 = Point(2, 3)\n",
        "p2 = Point(4, 5)"
      ],
      "metadata": {
        "id": "z1YdBGFloVdR"
      },
      "execution_count": 128,
      "outputs": []
    },
    {
      "cell_type": "code",
      "source": [
        "# Using the __str__ method :-\n",
        "\n",
        "print(p1)"
      ],
      "metadata": {
        "colab": {
          "base_uri": "https://localhost:8080/"
        },
        "id": "gbQP6tufof84",
        "outputId": "b8e9d7ba-1d2a-419b-c2d6-454a2768c502"
      },
      "execution_count": 132,
      "outputs": [
        {
          "output_type": "stream",
          "name": "stdout",
          "text": [
            "Point(2, 3)\n"
          ]
        }
      ]
    },
    {
      "cell_type": "code",
      "source": [
        "# Using the __add__ method create a new object p3:-\n",
        "\n",
        "p3 = p1 + p2\n",
        "print(p3)"
      ],
      "metadata": {
        "colab": {
          "base_uri": "https://localhost:8080/"
        },
        "id": "esvV7Ri1of5j",
        "outputId": "25d0c0ea-e6b8-4696-cac8-21e8be802b19"
      },
      "execution_count": 133,
      "outputs": [
        {
          "output_type": "stream",
          "name": "stdout",
          "text": [
            "Point(6, 8)\n"
          ]
        }
      ]
    },
    {
      "cell_type": "markdown",
      "source": [
        "# Q12) Create a decorator that measures and prints the execution time of a function."
      ],
      "metadata": {
        "id": "TCW0ZQUApBnP"
      }
    },
    {
      "cell_type": "code",
      "source": [
        "# Import the time from library :-\n",
        "import time\n",
        "\n",
        "# Decorator to measure and print the execution time of a function\n",
        "def timer_decorator(func):\n",
        "    def wrapper(*args, **kwargs): # mention *args and **kwargs so it can handle functions with any number of positional and keyword arguments.\n",
        "        start = time.time()       # Start time\n",
        "        result = func(*args, **kwargs)\n",
        "        end = time.time()         # End time\n",
        "        print(f\"Execution time took: {end - start} seconds\")\n",
        "        return result\n",
        "    return wrapper"
      ],
      "metadata": {
        "id": "SCTTv3d4o42Z"
      },
      "execution_count": 149,
      "outputs": []
    },
    {
      "cell_type": "code",
      "source": [
        "# Usage 1:-\n",
        "\n",
        "# Making the 'timer_decorator' a decorate function\n",
        "\n",
        "# Creating new function with respect to call the 'timer-decorator'\n",
        "\n",
        "# Applying the decorator to the function\n",
        "@timer_decorator\n",
        "def func_test():\n",
        "    print(\"This is the result :\", 11 * 1000)\n",
        "\n",
        "# Calling the func_test() method/function :-\n",
        "func_test()\n"
      ],
      "metadata": {
        "colab": {
          "base_uri": "https://localhost:8080/"
        },
        "id": "sGdqaBT1-2_t",
        "outputId": "52876e1e-0a14-4492-8e87-8af804abb962"
      },
      "execution_count": 153,
      "outputs": [
        {
          "output_type": "stream",
          "name": "stdout",
          "text": [
            "This is the result : 11000\n",
            "Execution time took: 0.00193023681640625 seconds\n"
          ]
        }
      ]
    },
    {
      "cell_type": "code",
      "source": [
        "# Usage 2:-\n",
        "\n",
        "# Making the 'timer_decorator' a decorate function\n",
        "\n",
        "# Creating new function with respect to call the 'timer-decorator'\n",
        "\n",
        "# Applying the decorator to the function\n",
        "\n",
        "@timer_decorator\n",
        "def func_test():\n",
        "    print(\"This is the result :\", 1100000000 * 1000)\n",
        "\n",
        "\n",
        "# Calling the func_test() method/function :-\n",
        "func_test()"
      ],
      "metadata": {
        "colab": {
          "base_uri": "https://localhost:8080/"
        },
        "id": "b9xhKY7d--bF",
        "outputId": "fee1263e-a5d2-40e5-fe7d-72ff6505a079"
      },
      "execution_count": 154,
      "outputs": [
        {
          "output_type": "stream",
          "name": "stdout",
          "text": [
            "This is the result : 1100000000000\n",
            "Execution time took: 0.001440286636352539 seconds\n"
          ]
        }
      ]
    },
    {
      "cell_type": "markdown",
      "source": [
        "# Q13) Explain the concept of the Diamond Problem in multiple inheritance. How does Python resolve it?"
      ],
      "metadata": {
        "id": "cvRrs-XbDrbl"
      }
    },
    {
      "cell_type": "markdown",
      "source": [
        "# Answer :-\n",
        "\n",
        "### The Diamond Problem is a classic issue that can occur in languages that support multiple inheritance, including Python :-\n",
        "\n",
        "- Diampnd Problem arises when a class inherits from two or more classes that have a common ancestor.\n",
        "\n",
        "- It occurs when a class inherits from 2 or more than 2 class and, This can lead to ambiguity in method and attribute resolution.\n",
        "\n",
        "- It means that the class that is inherited first in the derived class, that method will be call.\n",
        "\n",
        "## To remove diamond problem MRO (Method Resolution Order) algorithm called c3 linearization."
      ],
      "metadata": {
        "id": "rw9UPWuMEBoI"
      }
    },
    {
      "cell_type": "markdown",
      "source": [
        "### Example :-"
      ],
      "metadata": {
        "id": "GtWWc4YpE0pB"
      }
    },
    {
      "cell_type": "code",
      "source": [
        "# Create class Method 'A' using def function for a diamond problem :-\n",
        "\n",
        "class A:\n",
        "    def method(self):\n",
        "        print(\"Method of Class A\")\n",
        "\n",
        "# Here B inherits from A :-\n",
        "class B(A):\n",
        "    def method(self):\n",
        "        print(\"Method of Class B\")\n",
        "\n",
        "# Here C inherits from A :-\n",
        "class C(A):\n",
        "    def method(self):\n",
        "        print(\"Method of Class C\")\n",
        "\n",
        "# Here D inherits from both B and C :-\n",
        "class D(C, B):\n",
        "    pass"
      ],
      "metadata": {
        "id": "7HuaS5WI_LlU"
      },
      "execution_count": 163,
      "outputs": []
    },
    {
      "cell_type": "code",
      "source": [
        "# Make an object to call the class method of D\n",
        "\n",
        "# It can access both C and B method\n",
        "# But it will give the result of class C as it mentioned 1st in D()\n",
        "\n",
        "obj_d = D()\n",
        "obj_d.method()"
      ],
      "metadata": {
        "colab": {
          "base_uri": "https://localhost:8080/"
        },
        "id": "hJpkpXMCFCjO",
        "outputId": "e33d9198-d3cc-49e6-ac24-957cbc86da69"
      },
      "execution_count": 164,
      "outputs": [
        {
          "output_type": "stream",
          "name": "stdout",
          "text": [
            "Method of Class C\n"
          ]
        }
      ]
    },
    {
      "cell_type": "code",
      "source": [
        "# To see the MRO of a class by the mro() method :-\n",
        "\n",
        "print(D.mro())"
      ],
      "metadata": {
        "colab": {
          "base_uri": "https://localhost:8080/"
        },
        "id": "TMaGJuDBFk2l",
        "outputId": "ce84351a-c0fd-4981-e47d-022a323aea61"
      },
      "execution_count": 165,
      "outputs": [
        {
          "output_type": "stream",
          "name": "stdout",
          "text": [
            "[<class '__main__.D'>, <class '__main__.C'>, <class '__main__.B'>, <class '__main__.A'>, <class 'object'>]\n"
          ]
        }
      ]
    },
    {
      "cell_type": "code",
      "source": [
        "# To see the MRO of a class by the __mro__ attribute :-\n",
        "\n",
        "print(D.__mro__)"
      ],
      "metadata": {
        "colab": {
          "base_uri": "https://localhost:8080/"
        },
        "id": "L3oZ1oBHFkpo",
        "outputId": "4eb9018e-7dea-4e7a-bd97-b1a78a760b49"
      },
      "execution_count": 166,
      "outputs": [
        {
          "output_type": "stream",
          "name": "stdout",
          "text": [
            "(<class '__main__.D'>, <class '__main__.C'>, <class '__main__.B'>, <class '__main__.A'>, <class 'object'>)\n"
          ]
        }
      ]
    },
    {
      "cell_type": "markdown",
      "source": [
        "# Q14) Write a class method that keeps track of the number of instances created from a class."
      ],
      "metadata": {
        "id": "6tGFRWLKGkjS"
      }
    },
    {
      "cell_type": "markdown",
      "source": [
        "# Answer :-\n",
        "\n",
        "- A class method is a method that is bound to the class and not the object of the class. It can access and modify class state that applies across all instances of the class. To define a class method, you use the @classmethod decorator, and the first parameter is always cls, which refers to the class itself.\n"
      ],
      "metadata": {
        "id": "97lJGUbbHKBN"
      }
    },
    {
      "cell_type": "code",
      "source": [
        "# Creating a class method that keeps track of the number of instances created from a class :-\n",
        "\n",
        "class Myclass:\n",
        "    # Class variable to keep track of the number of instances\n",
        "    count = 0\n",
        "\n",
        "    def __init__(self):\n",
        "        # appending the instance count each time a new instance is created\n",
        "        Myclass.count += 1\n",
        "\n",
        "    @classmethod\n",
        "    def get_instance_count(cls):\n",
        "        # Return the current count of instances\n",
        "        return f\"There are {cls.count} instances of {cls.__name__}.\"\n"
      ],
      "metadata": {
        "id": "GoCdTBQoFgzH"
      },
      "execution_count": 176,
      "outputs": []
    },
    {
      "cell_type": "code",
      "source": [
        "# Created instance/object for class\n",
        "a = Myclass()\n",
        "b = Myclass()\n",
        "c = Myclass()\n",
        "d = Myclass()\n",
        "e = Myclass()\n",
        "\n",
        "# Print the instance count\n",
        "print(Myclass.get_instance_count())\n"
      ],
      "metadata": {
        "colab": {
          "base_uri": "https://localhost:8080/"
        },
        "id": "-PFmzUnYH9oR",
        "outputId": "215b962f-ff2c-47fd-bf42-ed19bb7cf833"
      },
      "execution_count": 177,
      "outputs": [
        {
          "output_type": "stream",
          "name": "stdout",
          "text": [
            "There are 5 instances of Myclass.\n"
          ]
        }
      ]
    },
    {
      "cell_type": "markdown",
      "source": [
        "# Q15) Implement a static method in a class that checks if a given year is a leap year."
      ],
      "metadata": {
        "id": "0oIvxoKAJi0l"
      }
    },
    {
      "cell_type": "code",
      "source": [
        "# Creating a static method in a class that checks if a given year is a leap year :-\n",
        "\n",
        "\n",
        "# Create a class of 'Year' and use static method :-\n",
        "class Year:\n",
        "\n",
        "    # Create a static method to check if a given year is a leap year and --->\n",
        "    # Created def function for leap year :-\n",
        "    @staticmethod\n",
        "    def leap_year(year: int) -> bool:\n",
        "\n",
        "        # Here, A year is a leap year if it is divisible by 4 ---->\n",
        "        # and if a year is also divisible by 100, it is not a leap year unless ---->\n",
        "        # or year is also divisible by 400 :-\n",
        "        return (year % 4 == 0 and (year % 100 != 0 or year % 400 == 0))"
      ],
      "metadata": {
        "id": "0WwSiDtvIvRR"
      },
      "execution_count": 182,
      "outputs": []
    },
    {
      "cell_type": "code",
      "source": [
        "# Call the function to check if the provided year is leap year or not :-\n",
        "\n",
        "\n",
        "print(Year.leap_year(1995))\n",
        "print(Year.leap_year(2020))\n",
        "print(Year.leap_year(1900))\n",
        "print(Year.leap_year(2000))\n",
        "print(Year.leap_year(2023))"
      ],
      "metadata": {
        "colab": {
          "base_uri": "https://localhost:8080/"
        },
        "id": "pVhI7j7mKJ_5",
        "outputId": "a3386bed-6be6-4bad-86bc-3fc27ccab0f5"
      },
      "execution_count": 188,
      "outputs": [
        {
          "output_type": "stream",
          "name": "stdout",
          "text": [
            "False\n",
            "True\n",
            "False\n",
            "True\n",
            "False\n",
            "True\n"
          ]
        }
      ]
    },
    {
      "cell_type": "code",
      "source": [
        "print(Year.leap_year(2024))"
      ],
      "metadata": {
        "colab": {
          "base_uri": "https://localhost:8080/"
        },
        "id": "kI3TPfUbMAp7",
        "outputId": "59844520-5184-46ba-c160-c5b0ea6432f5"
      },
      "execution_count": 187,
      "outputs": [
        {
          "output_type": "stream",
          "name": "stdout",
          "text": [
            "True\n"
          ]
        }
      ]
    },
    {
      "cell_type": "code",
      "source": [
        "print(Year.leap_year(2010))"
      ],
      "metadata": {
        "colab": {
          "base_uri": "https://localhost:8080/"
        },
        "id": "gZuuADpAM2gE",
        "outputId": "cad6ca69-c08d-449a-8a85-6e42bd5111ed"
      },
      "execution_count": 189,
      "outputs": [
        {
          "output_type": "stream",
          "name": "stdout",
          "text": [
            "False\n"
          ]
        }
      ]
    },
    {
      "cell_type": "code",
      "source": [],
      "metadata": {
        "id": "YSFSa-7ZM8cP"
      },
      "execution_count": null,
      "outputs": []
    }
  ]
}